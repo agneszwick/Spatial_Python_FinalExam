{
 "cells": [
  {
   "cell_type": "markdown",
   "id": "cea5b4f4",
   "metadata": {},
   "source": [
    "# Final Exam: Temperature Conditions on Bikeways in Bavaria\n",
    "\n",
    "Author: Agnes Zwick\n",
    "Lecturer: Steven Hill\n",
    "\n",
    "\n",
    "\n",
    "\n",
    "<div style=\"display: flex;\">\n",
    "    <img src=\"https://www.ardalpha.de/wissen/umwelt/klima/klimawandel/temperaturen-bayern-sommer-2018-klimawandel-100~_v-img__16__9__xl_-d31c35f8186ebeb80b0cd843a7c267a0e0c81647.png?version=9e469\" alt=\"Image 1\" style=\"max-height: 200px; margin-right: 20px;\">\n",
    "    <img src=\"https://www.radlland-bayern.de/wp-content/uploads/img-rv-1080x720-knotenpunkt.jpg\" alt=\"Image 2\" style=\"height: 200px; width: auto; object-fit: cover; object-position: 100% 0;\">\n",
    "</div>\n"
   ]
  },
  {
   "cell_type": "markdown",
   "id": "ae85c221",
   "metadata": {},
   "source": [
    "The primary objective of this project is to identify and analyze the coldest temperature zones along bikeways connecting cities within Bavaria. The focus will be on determining bikeways that experience lower temperatures, contributing to a comprehensive understanding of temperature conditions for cyclists.\n",
    "\n",
    "## 1. Vector Data Analysis\n",
    "The code's purpose is to prepare vector data for later use in a pathfinding process.\n",
    "\n",
    "**- Segmentation of Bikeways:**\n",
    "The code proceeds to segment the bikeways into distinct individual sections. This is achieved by introducing intersection points at specific locations along the bikeways. By doing so, the bikeways are divided into segments that can be effectively navigated during the pathfinding process.\n",
    "\n",
    "## 2. Raster Data Analysis\n",
    "The temperature information regarding the bikeways is provided through raster data sourced from MODIS. This data is then subject to the following steps:\n",
    "\n",
    "**- Reprojection and Clipping:**\n",
    "The initial action involves the reprojection of the temperature raster data to align with the geographic coordinate system of Bavaria. Additionally, the data is clipped to match the boundary of Bavaria, ensuring that only relevant information is retained.\n",
    "\n",
    "**- Zonal Statistics Calculation:**\n",
    "Zonal statistics are computed for each individual bikeway. This process entails analyzing the temperature data within the spatial boundaries of each bikeway.\n",
    "\n",
    "## 4. Final Map\n",
    "To generate an informative map, the following steps are executed:\n",
    "\n",
    "**- Centroid Point Creation:**\n",
    "Points are created at the centroids of each municipal area. These points serve as representative markers for each municipality.\n",
    "\n",
    "**- Population Data Integration:**\n",
    "A CSV file containing population data for Bavarian municipalities is loaded. The integration of this data provides a more comprehensive overview of the area of interest.\n",
    "\n",
    "**- Population-Based Filtering:**\n",
    "The generated points of each municipal are filtered based on population values.\n",
    "\n",
    "By following these steps, the map effectively visualizes the Bavarian municipalities, highlighting those with significant populations. This aids in improving the spatial understanding of the pathway within Bavaria.\n",
    "\n",
    "\n",
    "\n",
    "\n"
   ]
  },
  {
   "cell_type": "markdown",
   "id": "8f945966",
   "metadata": {},
   "source": [
    "# Start and End Point Definition\n",
    "\n",
    "The initial step involves defining the start and end points for the pathfinding process. For this purpose, a municipality within Bavaria is selected as the starting point. Subsequently, a random point is generated on a bikeway within this chosen municipality. These defined points establish the journey's origin and destination, initiating the pathfinding analysis."
   ]
  },
  {
   "cell_type": "code",
   "execution_count": null,
   "id": "70026df4",
   "metadata": {},
   "outputs": [],
   "source": [
    "start = \"Regensburg\"\n",
    "end = \"München\""
   ]
  },
  {
   "cell_type": "markdown",
   "id": "e21b8f52",
   "metadata": {},
   "source": [
    "## 1. Vector Data Analysis\n",
    "To initiate the vector data analysis, it's essential to import the necessary libraries."
   ]
  },
  {
   "cell_type": "code",
   "execution_count": null,
   "id": "b6159e11",
   "metadata": {},
   "outputs": [],
   "source": [
    "import geopandas as gpd\n",
    "import pandas as pd\n",
    "import os\n",
    "from shapely.geometry import Point, LineString, MultiLineString"
   ]
  },
  {
   "cell_type": "markdown",
   "id": "9238f71f",
   "metadata": {},
   "source": [
    "**Get/Set working directory**"
   ]
  },
  {
   "cell_type": "code",
   "execution_count": null,
   "id": "3dee8cd8",
   "metadata": {},
   "outputs": [],
   "source": [
    "os.getcwd()"
   ]
  },
  {
   "cell_type": "markdown",
   "id": "99a5f152",
   "metadata": {},
   "source": [
    "**Import data**"
   ]
  },
  {
   "cell_type": "code",
   "execution_count": null,
   "id": "3e2a5662",
   "metadata": {},
   "outputs": [],
   "source": [
    "kataster_bavaria = gpd.read_file('../Final_Exam/input_data/vector/KatasterBezirk.shp')\n",
    "bikeways = gpd.read_file('../Final_Exam/input_data/vector/bikeways.shp')"
   ]
  },
  {
   "cell_type": "markdown",
   "id": "1a4d1e9d",
   "metadata": {},
   "source": [
    "**Vector Data Tasks:**\n",
    "\n",
    "- Generate a polygon outlining the Bavarian borders utilizing the KatasterBezirk.shp dataset.\n",
    "- Import the bikeways.shp dataset.\n",
    "  - Convert MultiLineString geometries to LineString.\n",
    "  - Establish intersection points where two or more bikeways intersect.\n",
    "  - Manually eliminate extraneous points that may have been falsely created on lines using QGIS.\n",
    "  - Segment the bikeways into individual lines by utilizing the intersection points.\n",
    "  - Remove duplicates present among the intersection points and individual line segments."
   ]
  },
  {
   "cell_type": "markdown",
   "id": "92d1e899",
   "metadata": {},
   "source": [
    "**Dissolving kataster_bavaria into Bavarian Outlines**"
   ]
  },
  {
   "cell_type": "code",
   "execution_count": null,
   "id": "f90df0cb",
   "metadata": {},
   "outputs": [],
   "source": [
    "bavaria = kataster_bavaria.dissolve()"
   ]
  },
  {
   "cell_type": "markdown",
   "id": "4c606b09",
   "metadata": {},
   "source": [
    "**Convert MultiLineString geometries to LineString**\n"
   ]
  },
  {
   "cell_type": "code",
   "execution_count": null,
   "id": "6f15d461",
   "metadata": {},
   "outputs": [],
   "source": [
    "multiline = bikeways.geometry.unary_union\n",
    "if isinstance(multiline, LineString):\n",
    "    multiline = MultiLineString([multiline])\n",
    "\n",
    "# Create a new GeoDataFrame with a single MultiLineString\n",
    "modified_bikeways = gpd.GeoDataFrame(geometry=[multiline], crs=bikeways.crs)\n",
    "\n",
    "# Save the modified shapefile\n",
    "modified_bikeways.to_file(\"../Final_Exam/output_data/vector/modified_bikeways.shp\", driver='ESRI Shapefile')"
   ]
  },
  {
   "cell_type": "markdown",
   "id": "b6f1fdb4",
   "metadata": {},
   "source": [
    "**Generation of Intersection Points**"
   ]
  },
  {
   "cell_type": "code",
   "execution_count": null,
   "id": "f71261de",
   "metadata": {},
   "outputs": [],
   "source": [
    "# Extract the MultiLineString from the modified shapefile\n",
    "multiline = modified_bikeways.geometry[0]\n",
    "\n",
    "# Create a list to store the start and end points\n",
    "points = []\n",
    "\n",
    "# Iterate through each line segment in the MultiLineString\n",
    "for line_segment in multiline.geoms:\n",
    "    points.extend([Point(line_segment.coords[0]), Point(line_segment.coords[-1])])\n",
    "\n",
    "# Add points at the start and end of each bikeway\n",
    "for line in multiline.geoms:\n",
    "    points.extend([Point(line.coords[0]), Point(line.coords[-1])])\n",
    "\n",
    "# Convert the list of points to a GeoDataFrame\n",
    "points_gdf = gpd.GeoDataFrame(geometry=points, crs=modified_bikeways.crs)\n",
    "\n",
    "# Save the points as a new shapefile\n",
    "points_gdf.to_file(\"../Final_Exam/output_data/vector/intersections.shp\", driver='ESRI Shapefile')"
   ]
  },
  {
   "cell_type": "markdown",
   "id": "d906a8d9",
   "metadata": {},
   "source": [
    "**Manual Removal of Non-Intersection Points in QGIS**"
   ]
  },
  {
   "cell_type": "code",
   "execution_count": null,
   "id": "448a0af5",
   "metadata": {},
   "outputs": [],
   "source": [
    "intersections = gpd.read_file(\"../Final_Exam/input_data/vector/intersections_mod.shp\")"
   ]
  },
  {
   "cell_type": "markdown",
   "id": "30f4c081",
   "metadata": {},
   "source": [
    "**Remove duplicates of intersections**\n"
   ]
  },
  {
   "cell_type": "code",
   "execution_count": null,
   "id": "adaf0490",
   "metadata": {},
   "outputs": [],
   "source": [
    "intersections = intersections.drop_duplicates(subset='geometry')\n",
    "print(intersections)"
   ]
  },
  {
   "cell_type": "markdown",
   "id": "e697895f",
   "metadata": {},
   "source": [
    "**Segmentation of Bikeways into Individual Lines Using Intersection Points**"
   ]
  },
  {
   "cell_type": "code",
   "execution_count": null,
   "id": "da35aa30",
   "metadata": {},
   "outputs": [],
   "source": [
    "paths = []\n",
    "\n",
    "for line in bikeways.geometry:\n",
    "    if line.geom_type == 'LineString':\n",
    "        line_coords = list(line.coords)\n",
    "        for point in intersections.geometry:\n",
    "            if point.distance(line) < 1e-5 and line.distance(point) < 1e-5: \n",
    "                if point.coords[0] in line_coords:\n",
    "                    # Split the line based on the intersection point\n",
    "                    index = line_coords.index(point.coords[0])\n",
    "                    if index > 0:\n",
    "                        split_lines = LineString(line_coords[:index + 1])\n",
    "                        paths.append(split_lines)\n",
    "\n",
    "# Create a new GeoDataFrame for the individual path segments and set CRS\n",
    "indivual_bikeways = gpd.GeoDataFrame(geometry=paths, crs=bikeways.crs)\n",
    "\n",
    "# Save the individual path segments as a shapefile\n",
    "indivual_bikeways.to_file('../Final_Exam/output_data/vector/indivual_bikeways.shp')"
   ]
  },
  {
   "cell_type": "markdown",
   "id": "7992b244",
   "metadata": {},
   "source": [
    "**Elimination of Duplicate Line Segments**"
   ]
  },
  {
   "cell_type": "code",
   "execution_count": null,
   "id": "9efe29aa",
   "metadata": {},
   "outputs": [],
   "source": [
    "indivual_bikeways = indivual_bikeways.drop_duplicates(subset='geometry')\n",
    "print(indivual_bikeways)"
   ]
  },
  {
   "cell_type": "markdown",
   "id": "c444bb6e",
   "metadata": {},
   "source": [
    "## 2. Raster Data Analysis\n",
    "To initiate the raster data analysis, it's essential to import the necessary libraries."
   ]
  },
  {
   "cell_type": "code",
   "execution_count": null,
   "id": "58deadf9",
   "metadata": {},
   "outputs": [],
   "source": [
    "import rasterio\n",
    "from rasterio.warp import calculate_default_transform, reproject, Resampling\n",
    "from rasterio.plot import show\n",
    "from rasterio.mask import mask\n",
    "import matplotlib.pyplot as plt\n",
    "from matplotlib.colors import LinearSegmentedColormap\n",
    "import numpy as np"
   ]
  },
  {
   "cell_type": "markdown",
   "id": "3f8a83ff",
   "metadata": {},
   "source": [
    "**Raster Data Tasks:**\n",
    "\n",
    "- Import the raster file containing temperature data for the summer month.\n",
    "- Reproject the raster file to align with the project's coordinate system.\n",
    "- Clip and mask the raster data to match the outline of Bavaria's geographical boundaries."
   ]
  },
  {
   "cell_type": "code",
   "execution_count": null,
   "id": "6501c06f",
   "metadata": {},
   "outputs": [],
   "source": [
    "# Open the source raster\n",
    "src_file = \"../Final_Exam/input_data/raster/mean_LST_summer.tif\"\n",
    "srcRst = rasterio.open(src_file)\n",
    "\n",
    "# Define the target CRS (EPSG:25832)\n",
    "dst_crs = bikeways.crs\n",
    "\n",
    "# Calculate the transform array and shape of the reprojected raster\n",
    "transform, width, height = calculate_default_transform(\n",
    "    srcRst.crs, dst_crs, srcRst.width, srcRst.height, *srcRst.bounds)\n",
    "\n",
    "# Prepare the metadata for the destination raster\n",
    "kwargs = srcRst.meta.copy()\n",
    "kwargs.update({\n",
    "    'crs': dst_crs,\n",
    "    'transform': transform,\n",
    "    'width': width,\n",
    "    'height': height\n",
    "})\n",
    "\n",
    "# Open the destination raster in write mode\n",
    "dst_file = \"../Final_Exam/output_data/raster/reproj_mean_LST_summer.tif\"\n",
    "dstRst = rasterio.open(dst_file, 'w', **kwargs)\n",
    "\n",
    "# Reproject and save the raster band data\n",
    "for i in range(1, srcRst.count + 1):\n",
    "    reproject(\n",
    "        source=rasterio.band(srcRst, i),\n",
    "        destination=rasterio.band(dstRst, i),\n",
    "        src_transform=srcRst.transform,\n",
    "        src_crs=srcRst.crs,\n",
    "        dst_transform=transform,\n",
    "        dst_crs=dst_crs,\n",
    "        resampling=Resampling.nearest)\n",
    "\n",
    "# Close the destination raster\n",
    "dstRst.close()"
   ]
  },
  {
   "cell_type": "code",
   "execution_count": null,
   "id": "8c24a0e1",
   "metadata": {},
   "outputs": [],
   "source": [
    "LST = \"../Final_Exam/output_data/raster/reproj_mean_LST_summer.tif\""
   ]
  },
  {
   "cell_type": "markdown",
   "id": "dcf1afe1",
   "metadata": {},
   "source": [
    "**Clipping and Masking Raster Data**"
   ]
  },
  {
   "cell_type": "code",
   "execution_count": null,
   "id": "8c95b0e1",
   "metadata": {},
   "outputs": [],
   "source": [
    "# Open the GeoTIFF file\n",
    "srcRst = rasterio.open(LST)\n",
    "\n",
    "# Clip the raster to the extent of bavaria\n",
    "clipped, out_transform = mask(srcRst, shapes=bavaria.geometry, crop=True)\n",
    "\n",
    "# Set values outside the shapefile boundary to NA\n",
    "clipped = np.where(clipped == srcRst.nodata, np.nan, clipped)\n",
    "\n",
    "# Update metadata for the clipped raster\n",
    "clipped_meta = srcRst.meta.copy()\n",
    "clipped_meta.update({\n",
    "    \"height\": clipped.shape[1],\n",
    "    \"width\": clipped.shape[2],\n",
    "    \"transform\": out_transform,\n",
    "    \"dtype\": 'float32',  # Set dtype as float32 to handle NaN values\n",
    "    \"nodata\": np.nan  # Set nodata value to NaN\n",
    "})\n",
    "\n",
    "# Plot the clipped and masked raster\n",
    "plt.figure(figsize=(10, 10))  # Set the figure size (adjust as needed)\n",
    "plt.imshow(clipped[0], cmap='viridis')  # Use the 'viridis' colormap, but you can choose any other colormap\n",
    "plt.title(\"Clipped and Masked LST of the summer month 2022 in Bavaria\")  # Add a title to the plot (optional)\n",
    "plt.colorbar(label='Temperature (°C)')  # Add a colorbar with the label (optional)\n",
    "plt.show()\n",
    "\n",
    "# Close the GeoTIFF file after clipping\n",
    "srcRst.close()\n",
    "\n",
    "# Specify the path and filename for the clipped raster\n",
    "clipped_file = '../Final_Exam/output_data/raster/clipped_reproj_mean_LST.tif'\n",
    "\n",
    "# Save the clipped raster as a new GeoTIFF file\n",
    "with rasterio.open(clipped_file, 'w', **clipped_meta) as dst:\n",
    "    dst.write(clipped)"
   ]
  },
  {
   "cell_type": "code",
   "execution_count": null,
   "id": "ee84eaad",
   "metadata": {},
   "outputs": [],
   "source": [
    "LST = \"../Final_Exam/output_data/raster/clipped_reproj_mean_LST.tif\""
   ]
  },
  {
   "cell_type": "markdown",
   "id": "9aa3c191",
   "metadata": {},
   "source": [
    "## 3. Pathfinder\n",
    "To initiate the pathfinder, it's essential to import the necessary libraries."
   ]
  },
  {
   "cell_type": "code",
   "execution_count": null,
   "id": "15654143",
   "metadata": {},
   "outputs": [],
   "source": [
    "import geopandas as gpd\n",
    "import pandas as pd\n",
    "import rasterio\n",
    "import rasterstats\n",
    "from shapely.geometry import Point, LineString, Polygon\n",
    "from shapely.ops import nearest_points\n",
    "import random\n",
    "import networkx as nx\n",
    "import matplotlib.pyplot as plt\n",
    "from matplotlib.cm import ScalarMappable\n",
    "import numpy as np\n",
    "import csv\n",
    "from adjustText import adjust_text\n"
   ]
  },
  {
   "cell_type": "markdown",
   "id": "f1e7f2d3",
   "metadata": {},
   "source": [
    "**Pathfinder Tasks:**\n",
    "\n",
    "- Compute the mean temperature for each individual bikeway.\n",
    "- Construct a network graph for pathfinding purposes.\n",
    "  - Define the start and end points of the \"trip\" based on information from the kataster file.\n",
    "  - Determine the coldest and shortest path from the start to the end point.\n",
    "- Calculate the length and mean temperature of the chosen path."
   ]
  },
  {
   "cell_type": "markdown",
   "id": "3908f3b2",
   "metadata": {},
   "source": [
    "**Calculation of Mean Temperature for Each Individual Bikeway**"
   ]
  },
  {
   "cell_type": "code",
   "execution_count": null,
   "id": "2ad07a2a",
   "metadata": {},
   "outputs": [],
   "source": [
    "# Load split line shapefile and MODIS LST raster\n",
    "LST = rasterio.open(LST)\n",
    "temperature_values = LST.read(1)\n",
    "\n",
    "# Create an empty list to store mean temperatures\n",
    "mean_temperatures = []\n",
    "\n",
    "# Iterate over split lines\n",
    "for index, row in indivual_bikeways.iterrows():\n",
    "    line = row['geometry']\n",
    "    \n",
    "    # Extract temperature values using zonal statistics\n",
    "    line_stats = rasterstats.zonal_stats(line, temperature_values, affine=LST.transform, stats='mean')\n",
    "    \n",
    "    # Get the mean temperature from the statistics\n",
    "    if line_stats and line_stats[0]['mean'] is not None:\n",
    "        mean_temp = line_stats[0]['mean']\n",
    "        mean_temperatures.append(mean_temp)\n",
    "    else:\n",
    "        mean_temperatures.append(None)\n",
    "\n",
    "# Add mean temperature values to the split lines GeoDataFrame\n",
    "indivual_bikeways['mean_temp'] = mean_temperatures\n",
    "indivual_bikeways"
   ]
  },
  {
   "cell_type": "markdown",
   "id": "ab28bdb3",
   "metadata": {},
   "source": [
    "**Generation of Random Point within Start and End Municipality Polygons on a Bikeway**"
   ]
  },
  {
   "cell_type": "code",
   "execution_count": null,
   "id": "4ef97a7b",
   "metadata": {},
   "outputs": [],
   "source": [
    "# Select the polygons with the same municipal name\n",
    "start_town = kataster_bavaria[kataster_bavaria[\"gemeinde\"] == start]\n",
    "end_town = kataster_bavaria[kataster_bavaria[\"gemeinde\"] == end]\n",
    "\n",
    "# Merge the selected polygons into a single polygon\n",
    "start_town = start_town.dissolve()\n",
    "end_town = end_town.dissolve()\n",
    "\n",
    "start_bikeways = gpd.clip(indivual_bikeways, start_town)\n",
    "end_bikeways = gpd.clip(indivual_bikeways, end_town)\n",
    "\n",
    "# Generate a random sample of LineString objects from the clipped bikeways\n",
    "random_sample_start = start_bikeways.sample(n=1)\n",
    "random_sample_end = end_bikeways.sample(n=1)\n",
    "\n",
    "# Get a random distance along the LineString\n",
    "line_length_start = random_sample_start.geometry.length.values[0]\n",
    "random_distance_start = random.uniform(0, line_length_start)\n",
    "\n",
    "line_length_end = random_sample_end.geometry.length.values[0]\n",
    "random_distance_end = random.uniform(0, line_length_end)\n",
    "\n",
    "# Generate a random point on the LineString at the chosen distance\n",
    "random_point_start = random_sample_start.geometry.interpolate(random_distance_start)\n",
    "random_point_end = random_sample_end.geometry.interpolate(random_distance_end)\n",
    "\n",
    "print(random_point_start, random_point_end)"
   ]
  },
  {
   "cell_type": "markdown",
   "id": "c1fca3cb",
   "metadata": {},
   "source": [
    "**Pathfinding Process**"
   ]
  },
  {
   "cell_type": "code",
   "execution_count": null,
   "id": "4ef07af1",
   "metadata": {},
   "outputs": [],
   "source": [
    "# Create an empty graph\n",
    "G = nx.Graph()\n",
    "\n",
    "# Iterate over each line feature in the shapefile\n",
    "for i, line in indivual_bikeways.iterrows():\n",
    "    line_geometry = line.geometry  # Get the line's geometry\n",
    "\n",
    "    # Get the mean temperature from the attribute (assuming 'mean_temp' as the attribute name)\n",
    "    mean_temperature = line['mean_temp']\n",
    "\n",
    "    # Extract the coordinates from the line's geometry\n",
    "    line_coords = list(line_geometry.coords)\n",
    "\n",
    "    # Iterate over each pair of consecutive coordinates and add edges to the graph\n",
    "    for j in range(len(line_coords) - 1):\n",
    "        start_point = line_coords[j]\n",
    "        end_point = line_coords[j + 1]\n",
    "        G.add_edge(start_point, end_point, weight=mean_temperature)\n",
    "\n",
    "# Assign start and end points from the previous code\n",
    "start_point = (random_point_start.geometry.values[0].x, random_point_start.geometry.values[0].y)\n",
    "end_point = (random_point_end.geometry.values[0].x, random_point_end.geometry.values[0].y)\n",
    "\n",
    "# Calculate the distances between the start and end points and the nodes in the graph\n",
    "start_distances = {node: ((node[0] - start_point[0]) ** 2 + (node[1] - start_point[1]) ** 2) ** 0.5 for node in G.nodes()}\n",
    "end_distances = {node: ((node[0] - end_point[0]) ** 2 + (node[1] - end_point[1]) ** 2) ** 0.5 for node in G.nodes()}\n",
    "\n",
    "# Find the nearest nodes in the graph to the start and end points\n",
    "start_node = min(start_distances, key=start_distances.get)\n",
    "end_node = min(end_distances, key=end_distances.get)\n",
    "\n",
    "# Find the coldest and shortest path using the shortest_path function\n",
    "coldest_path = nx.shortest_path(G, source=start_node, target=end_node, weight='weight')\n",
    "\n",
    "# Convert coldest_path to LineString\n",
    "coldest_path_line = LineString(coldest_path)\n",
    "\n",
    "# Convert start and end points to Point objects\n",
    "start_point_geom = Point(start_point)\n",
    "end_point_geom = Point(end_point)"
   ]
  },
  {
   "cell_type": "markdown",
   "id": "3eab4c1a",
   "metadata": {},
   "source": [
    "**Calculation of Length and Mean Temperature for the Selected Bikeway**"
   ]
  },
  {
   "cell_type": "code",
   "execution_count": null,
   "id": "5410d2ab",
   "metadata": {},
   "outputs": [],
   "source": [
    "# Calculate the length of the coldest path line in kilometers\n",
    "coldest_path_length_km = coldest_path_line.length / 1000\n",
    "print(f\"Length of the coldest path between {start} and {end}:\", \n",
    "      round(coldest_path_length_km, 2),\"km\")"
   ]
  },
  {
   "cell_type": "code",
   "execution_count": null,
   "id": "132e853e",
   "metadata": {},
   "outputs": [],
   "source": [
    "# Open the raster file\n",
    "LST = rasterio.open(\"../Final_Exam/output_data/raster/clipped_reproj_mean_LST.tif\")\n",
    "\n",
    "# Initialize an empty list to store the temperature values\n",
    "temperatures = []\n",
    "\n",
    "# Iterate over each point along the coldest_path_line\n",
    "for point in coldest_path_line.coords:\n",
    "    # Get the pixel value from the raster corresponding to the point\n",
    "    row, col = LST.index(point[0], point[1])\n",
    "    temperature = LST.read(1, window=((row, row+1), (col, col+1)))\n",
    "    temperatures.append(temperature)\n",
    "\n",
    "# Calculate the mean temperature of the coldest_path_line\n",
    "mean_temperature = np.mean(temperatures)\n",
    "\n",
    "# Print the mean temperature of the coldest_path_line\n",
    "print(f\"Mean temperature on the path between {start} and {end}:\", \n",
    "      round(float(mean_temperature), 2), \"°C\")"
   ]
  },
  {
   "cell_type": "markdown",
   "id": "7987df22",
   "metadata": {},
   "source": [
    "## 4. Final Map\n",
    "The final map is composed of:\n",
    "\n",
    "- Centroid Points: Strategically positioned at municipal centroids.\n",
    "- Population Integration: CSV population data integrated for demographic context.\n",
    "- Population Filtering: Points filtered based on population\n",
    "- Coldest path between start and end\n",
    "- Result: Overview Map and Detailed Map with information of the length of each bikeway in Bavaria"
   ]
  },
  {
   "cell_type": "code",
   "execution_count": null,
   "id": "07a2f48f",
   "metadata": {},
   "outputs": [],
   "source": [
    "# Dissolve the polygons based on the \"gemeinde\" column\n",
    "municipals_poly = kataster_bavaria.dissolve(by='gemeinde')\n",
    "\n",
    "# Create a new column to store the \"gemeinde\" name\n",
    "municipals_poly['municipal_name'] = municipals_poly.index\n",
    "\n",
    "# Create a new column to store the centroid points\n",
    "municipals_poly['centroid'] = municipals_poly['geometry'].centroid\n",
    "\n",
    "# # Convert the GeoDataFrame to a GeoSeries of Point objects\n",
    "municipals_centroids = municipals_poly['centroid'].apply(lambda p: Point(p.x, p.y))\n",
    "\n",
    "# # Create a new GeoDataFrame for the points\n",
    "municipals_centroids = gpd.GeoDataFrame(geometry=municipals_centroids)\n",
    "\n",
    "# Assign the \"point_name\" column to the new GeoDataFrame\n",
    "municipals_centroids['municipal_name'] = municipals_poly['municipal_name']"
   ]
  },
  {
   "cell_type": "code",
   "execution_count": null,
   "id": "980cbb02",
   "metadata": {},
   "outputs": [],
   "source": [
    "# Specify the path to your CSV file\n",
    "csv_file_path = \"../Final_Exam/input_data/table/population_bavaria.csv\"\n",
    "\n",
    "# Read the CSV file and store the \"name\" and \"einwohner_2021\" columns in a dictionary\n",
    "einwohner_data = {}\n",
    "with open(csv_file_path, \"r\", encoding=\"utf-8-sig\") as file:\n",
    "    csv_reader = csv.reader(file, delimiter=\";\")\n",
    "    header_row = next(csv_reader)  # Store the header row\n",
    "    for row in csv_reader:\n",
    "        name = row[0]\n",
    "        einwohner_2021 = row[6]\n",
    "        einwohner_data[name] = einwohner_2021\n",
    "\n",
    "# Remove the first row from einwohner_data dictionary\n",
    "einwohner_data.pop('')\n",
    "\n",
    "# Remove the \".\" character from 'einwohner_2021' values in einwohner_data dictionary\n",
    "einwohner_data = {key: value.replace('.', '') for key, value in einwohner_data.items()}\n",
    "\n",
    "# Create a new column 'einwohner_2021' in municipals_centroids and initialize it with NaN\n",
    "municipals_centroids['einwohner_2021'] = float('NaN')\n",
    "\n",
    "# Map 'einwohner_2021' values from einwohner_data dictionary to municipals_centroids\n",
    "for name in municipals_centroids['municipal_name']:\n",
    "    names = name.split(';')\n",
    "    for individual_name in names:\n",
    "        if individual_name in einwohner_data:\n",
    "            mask = municipals_centroids['municipal_name'] == name\n",
    "            municipals_centroids.loc[mask, 'einwohner_2021'] = einwohner_data[individual_name]\n",
    "            break\n",
    "    else:\n",
    "        print(f\"No population data found for '{name}'\")\n",
    "\n",
    "# Remove points where 'einwohner_2021' is still NaN\n",
    "municipals_centroids_population = municipals_centroids[~municipals_centroids['einwohner_2021'].isna()].copy()\n",
    "\n",
    "# Convert 'einwohner_2021' column to numeric values\n",
    "municipals_centroids_population['einwohner_2021'] = pd.to_numeric(municipals_centroids_population['einwohner_2021'], errors='coerce')\n"
   ]
  },
  {
   "cell_type": "code",
   "execution_count": null,
   "id": "10f9879e",
   "metadata": {},
   "outputs": [],
   "source": [
    "# Remove rows with 'einwohner_2021' below 50000\n",
    "municipals_gt_100k = municipals_centroids_population[municipals_centroids_population['einwohner_2021'] >= 100000]\n",
    "municipals_gt_100k\n",
    "\n",
    "# Create a dictionary to store unique names and their corresponding population and geometry\n",
    "unique_names_data2 = {}\n",
    "\n",
    "# Iterate through the rows and add the population and geometry to the dictionary\n",
    "for idx, row in municipals_gt_100k.iterrows():\n",
    "    names = row['municipal_name'].split(';')\n",
    "    einwohner_2021 = row['einwohner_2021']\n",
    "    geometry = row['geometry']\n",
    "    \n",
    "    for name in names:\n",
    "        if name not in unique_names_data2:\n",
    "            unique_names_data2[name] = {'population': einwohner_2021, 'geometry': geometry}\n",
    "            \n",
    "# Create a GeoDataFrame with the unique names, population, and geometry\n",
    "\n",
    "unique_names_gdf2 = gpd.GeoDataFrame(columns=['municipal_name', 'einwohner_2021', 'geometry'])\n",
    "for name, data in unique_names_data2.items():\n",
    "    unique_names_gdf2 = unique_names_gdf2.append({'municipal_name': name, 'einwohner_2021': data['population'], 'geometry': data['geometry']}, ignore_index=True)\n"
   ]
  },
  {
   "cell_type": "code",
   "execution_count": null,
   "id": "b55a81ba",
   "metadata": {},
   "outputs": [],
   "source": [
    "coldest_path_gdf = gpd.GeoDataFrame(geometry=[coldest_path_line])\n",
    "start_gdf = gpd.GeoDataFrame(geometry=[start_point_geom])\n",
    "end_gdf = gpd.GeoDataFrame(geometry=[end_point_geom])"
   ]
  },
  {
   "cell_type": "code",
   "execution_count": null,
   "id": "e7ccace7",
   "metadata": {},
   "outputs": [],
   "source": [
    "import geopandas as gpd\n",
    "import matplotlib.pyplot as plt\n",
    "from shapely.geometry import Point, LineString\n",
    "from adjustText import adjust_text\n",
    "\n",
    "# Assuming you have the necessary GeoDataFrames and LineString\n",
    "\n",
    "# Create a figure and axis\n",
    "fig, ax = plt.subplots(figsize=(10, 10))\n",
    "\n",
    "# Plot Bavaria outline\n",
    "bavaria.plot(ax=ax, color='lightgray', edgecolor='black')\n",
    "\n",
    "# Plot the coldest path\n",
    "coldest_path_gdf.plot(ax=ax, color='blue', linewidth=2, label='Coldest Path')\n",
    "\n",
    "bikeways.plot(ax=ax, color='black', alpha=0.3, linewidth=1, label='Bikeways')\n",
    "\n",
    "# Plot the start and end points\n",
    "start_gdf.plot(ax=ax, color='green', markersize=100, label='Start Point')\n",
    "end_gdf.plot(ax=ax, color='red', markersize=100, label='End Point')\n",
    "\n",
    "# Plot the unique names and their population on the map\n",
    "points = unique_names_gdf2.plot(ax=ax, color='black', markersize=10, label='Cities with a population >100k', alpha=0.5)\n",
    "\n",
    "# Create a list of texts to label the points\n",
    "texts = []\n",
    "for idx, row in unique_names_gdf2.iterrows():\n",
    "    texts.append(ax.text(row.geometry.x, row.geometry.y, row.municipal_name, fontsize=8, ha='center', va='center'))\n",
    "\n",
    "# Adjust the positions of the labels to avoid overlap\n",
    "adjust_text(texts)\n",
    "\n",
    "# Set plot title and labels\n",
    "plt.legend()\n",
    "\n",
    "# Set the dynamic plot title\n",
    "title = f\"Overview of Coldest Bikeways from {start} to {end}\"\n",
    "\n",
    "# Set plot title and axis labels\n",
    "plt.title(title)\n",
    "plt.xlabel(\"Longitude\")\n",
    "plt.ylabel(\"Latitude\")\n",
    "\n",
    "# Show the plot\n",
    "plt.show()\n"
   ]
  },
  {
   "cell_type": "code",
   "execution_count": null,
   "id": "dfdb739a",
   "metadata": {},
   "outputs": [],
   "source": [
    "# Remove rows with 'einwohner_2021' below 10000\n",
    "municipals_gt_10k = municipals_centroids_population[municipals_centroids_population['einwohner_2021'] >= 10000]\n",
    "municipals_gt_10k\n",
    "\n",
    "# Create a dictionary to store unique names and their corresponding population and geometry\n",
    "unique_names_data = {}\n",
    "\n",
    "# Iterate through the rows and add the population and geometry to the dictionary\n",
    "for idx, row in municipals_gt_10k.iterrows():\n",
    "    names = row['municipal_name'].split(';')\n",
    "    einwohner_2021 = row['einwohner_2021']\n",
    "    geometry = row['geometry']\n",
    "    \n",
    "    for name in names:\n",
    "        if name not in unique_names_data:\n",
    "            unique_names_data[name] = {'population': einwohner_2021, 'geometry': geometry}\n",
    "            \n",
    "# Create a GeoDataFrame with the unique names, population, and geometry\n",
    "\n",
    "unique_names_gdf = gpd.GeoDataFrame(columns=['municipal_name', 'einwohner_2021', 'geometry'])\n",
    "for name, data in unique_names_data.items():\n",
    "    unique_names_gdf = unique_names_gdf.append({'municipal_name': name, 'einwohner_2021': data['population'], 'geometry': data['geometry']}, ignore_index=True)\n"
   ]
  },
  {
   "cell_type": "code",
   "execution_count": null,
   "id": "c93c88b5",
   "metadata": {},
   "outputs": [],
   "source": [
    "# Convert the coldest_path_line to a polygon by buffering\n",
    "clip_mask = coldest_path_line.buffer(0.001)  # Adjust the buffer distance if needed\n",
    "\n",
    "# Clip the bikeway data to the extent of the coldest line\n",
    "coldest_bikeway = gpd.clip(bikeways, clip_mask)\n",
    "\n",
    "# Convert MultiLineString to LineString\n",
    "coldest_bikeway = coldest_bikeway.explode()\n",
    "\n",
    "# Calculate and add the length (in km) in a new column\n",
    "coldest_bikeway['length'] = coldest_bikeway.geometry.length / 1000\n",
    "\n",
    "# Filter the bikeways longer than 1 km\n",
    "coldest_bikeway_1km = coldest_bikeway[coldest_bikeway['length'] > 1]\n",
    "\n",
    "# Plot the bikeways longer than 1 km\n",
    "fig, ax = plt.subplots(figsize=(15, 15))\n",
    "\n",
    "# Create a red gradient color map for the line colors\n",
    "lengths = coldest_bikeway_1km['length']\n",
    "cmap = plt.cm.get_cmap('Reds')\n",
    "norm = plt.Normalize(vmin=lengths.min(), vmax=lengths.max())\n",
    "scalar_map = ScalarMappable(cmap=cmap, norm=norm)\n",
    "\n",
    "texts = []  # List to store the text objects\n",
    "\n",
    "for idx, row in coldest_bikeway_1km.iterrows():\n",
    "    bikeway_name = row['Name']\n",
    "    length = row['length']\n",
    "\n",
    "    # Assign a unique color based on the length using the color map\n",
    "    line_color = scalar_map.to_rgba(length)\n",
    "\n",
    "    # Extract line coordinates\n",
    "    line_x, line_y = row.geometry.xy\n",
    "\n",
    "    ax.plot(line_x, line_y, color=line_color, linewidth=2)\n",
    "\n",
    "    # Calculate the centroid of the line geometry\n",
    "    centroid_x, centroid_y = row.geometry.centroid.xy\n",
    "\n",
    "    # Add the bikeway name as a label to the centroid of the line\n",
    "    texts.append(\n",
    "        ax.text(\n",
    "            centroid_x[0],\n",
    "            centroid_y[0],\n",
    "            f\"{bikeway_name} ({length:.2f} km)\",\n",
    "            fontsize=10,\n",
    "            ha='center',\n",
    "            va='center'\n",
    "        )\n",
    "    )\n",
    "\n",
    "# Municipals with a population greater than 5000 within the extent of the map\n",
    "unique_names_gdf = unique_names_gdf.cx[\n",
    "    ax.get_xlim()[0]:ax.get_xlim()[1],\n",
    "    ax.get_ylim()[0]:ax.get_ylim()[1]\n",
    "]\n",
    "\n",
    "# Add the start and end municipal polygons\n",
    "clipped_start_town = start_town.cx[\n",
    "    ax.get_xlim()[0]:ax.get_xlim()[1],\n",
    "    ax.get_ylim()[0]:ax.get_ylim()[1]\n",
    "]\n",
    "clipped_end_town = end_town.cx[\n",
    "    ax.get_xlim()[0]:ax.get_xlim()[1],\n",
    "    ax.get_ylim()[0]:ax.get_ylim()[1]\n",
    "]\n",
    "\n",
    "start_point = gpd.GeoDataFrame(geometry=[Point(random_point_start.geometry.values[0].x, random_point_start.geometry.values[0].y)])\n",
    "end_point = gpd.GeoDataFrame(geometry=[Point(random_point_end.geometry.values[0].x, random_point_end.geometry.values[0].y)])\n",
    "\n",
    "# Set the coordinate system of the start and end points to match the map\n",
    "start_point = start_point.set_crs(bikeways.crs)\n",
    "end_point = end_point.set_crs(bikeways.crs)\n",
    "\n",
    "# Plot the start and end points on the map\n",
    "ax.scatter(start_point.geometry.x, start_point.geometry.y, color='red', label=start, s=10)\n",
    "ax.scatter(end_point.geometry.x, end_point.geometry.y, color='red', label=end, s=10)\n",
    "\n",
    "# Add labels for the start and end points\n",
    "ax.text(start_point.geometry.x, start_point.geometry.y, start, fontsize=8, va='bottom', ha='center')\n",
    "ax.text(end_point.geometry.x, end_point.geometry.y, end, fontsize=8, va='bottom', ha='center')\n",
    "\n",
    "# Plot the outlines of start and end municipals\n",
    "clipped_start_town.boundary.plot(ax=ax, color='grey', linewidth=0.5)\n",
    "clipped_end_town.boundary.plot(ax=ax, color='grey', linewidth=0.5)\n",
    "\n",
    "# Plot the municipals_gt_5000 points on the map\n",
    "ax.scatter(\n",
    "    unique_names_gdf.geometry.x,\n",
    "    unique_names_gdf.geometry.y,\n",
    "    color='grey',\n",
    "    label='municipal_name',\n",
    "    s=10\n",
    ")\n",
    "\n",
    "\n",
    "# Add labels to the filtered points\n",
    "for x, y, label in zip(\n",
    "    unique_names_gdf.geometry.x,\n",
    "    unique_names_gdf.geometry.y,\n",
    "    unique_names_gdf['municipal_name']\n",
    "):\n",
    "    texts.append(\n",
    "        ax.text(\n",
    "            x,\n",
    "            y,\n",
    "            label,\n",
    "            fontsize=8,\n",
    "            ha='center',\n",
    "            va='center',\n",
    "            color='grey'\n",
    "        )\n",
    "    )\n",
    "\n",
    "# Automatically adjust label positions to prevent overlap\n",
    "adjust_text(texts, ax=ax)\n",
    "\n",
    "# Create the colorbar for the length gradient\n",
    "cbar = plt.colorbar(scalar_map, shrink=0.2)\n",
    "cbar.set_label('Length (km)')\n",
    "\n",
    "# Set the dynamic plot title\n",
    "title = f\"Coldest Bikeways from {start} to {end}\"\n",
    "\n",
    "# Set plot title and axis labels\n",
    "plt.title(title)\n",
    "plt.xlabel(\"Longitude\")\n",
    "plt.ylabel(\"Latitude\")\n",
    "\n",
    "# Show the plot\n",
    "plt.show()"
   ]
  }
 ],
 "metadata": {
  "kernelspec": {
   "display_name": "Python 3 (ipykernel)",
   "language": "python",
   "name": "python3"
  },
  "language_info": {
   "codemirror_mode": {
    "name": "ipython",
    "version": 3
   },
   "file_extension": ".py",
   "mimetype": "text/x-python",
   "name": "python",
   "nbconvert_exporter": "python",
   "pygments_lexer": "ipython3",
   "version": "3.10.9"
  }
 },
 "nbformat": 4,
 "nbformat_minor": 5
}
